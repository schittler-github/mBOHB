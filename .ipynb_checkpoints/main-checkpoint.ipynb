{
 "cells": [
  {
   "cell_type": "markdown",
   "id": "c313e40b-44c2-4927-b17c-d53f1328420d",
   "metadata": {},
   "source": [
    "## Rand_d-Rand_HB: a mockup version of BOHB\n",
    "\n",
    "This program implements a mockup version of BOHB. Features:\n",
    "1. num of parameters:  hyperparameters (>=4), in the continuous range [0,1]\n",
    "2. switch the BO role by a random samples with euclidian distance > \"d\"\n",
    "3. randomly cut samples during SH, no evaluation"
   ]
  },
  {
   "cell_type": "code",
   "execution_count": 1,
   "id": "8bce3607-8e5c-4d11-a7d7-8cfd064b1731",
   "metadata": {},
   "outputs": [],
   "source": [
    "# imports\n",
    "import math\n",
    "from rHB import RandomHB"
   ]
  },
  {
   "cell_type": "code",
   "execution_count": 2,
   "id": "87b8e659-fc2f-4736-bb02-6552ab09c00e",
   "metadata": {},
   "outputs": [],
   "source": [
    "# algorithm for search -> in this program the budget is an integer all along for simplification\n",
    "\n",
    "sample_size = 8     # number of initial samples for SH\n",
    "halving_factor = 2  # rate = 1/halving_factor \n",
    "total_budget = 4*80   # amount of \"computing\" resourses, iterations, etc\n",
    "min_budget = 1  # minimal amount of resources\n",
    "max_budget = total_budget \n",
    "\n",
    "hb_halving_factor = 2 # controll the amount of initial samples for each hyperband iteration\n",
    "\n",
    "# model sampling parameters\n",
    "num_hyperparameters = 2 # number of hyperparameters\n",
    "min_sampling_distance = 0.00001 # minimal distance between any two randomly selected points "
   ]
  },
  {
   "cell_type": "code",
   "execution_count": 3,
   "id": "2a4c1193-26bf-487f-9ba0-b07aa7c7c903",
   "metadata": {},
   "outputs": [
    {
     "name": "stdout",
     "output_type": "stream",
     "text": [
      "\n",
      "\n",
      " HB step **  0  **      Step budget: 80     Number of samples: 8\n",
      "    number of rounds:  4\n",
      "    budget per round:  20\n",
      "    sample budget per round:  [2, 5, 10, 20]\n",
      "    round: 0     indexes: [0, 1, 2, 3, 4, 5, 6, 7]\n",
      "        >>>> Start iterations for Object:  0\n",
      "        iteration  0 1     <<<<\n",
      "        >>>> Start iterations for Object:  1\n",
      "        iteration  0 1     <<<<\n",
      "        >>>> Start iterations for Object:  2\n",
      "        iteration  0 1     <<<<\n",
      "        >>>> Start iterations for Object:  3\n",
      "        iteration  0 1     <<<<\n",
      "        >>>> Start iterations for Object:  4\n",
      "        iteration  0 1     <<<<\n",
      "        >>>> Start iterations for Object:  5\n",
      "        iteration  0 1     <<<<\n",
      "        >>>> Start iterations for Object:  6\n",
      "        iteration  0 1     <<<<\n",
      "        >>>> Start iterations for Object:  7\n",
      "        iteration  0 1     <<<<\n",
      "    round: 1     indexes: [1, 4, 5, 6]\n",
      "        >>>> Start iterations for Object:  1\n",
      "        iteration  0 1 2 3 4     <<<<\n",
      "        >>>> Start iterations for Object:  4\n",
      "        iteration  0 1 2 3 4     <<<<\n",
      "        >>>> Start iterations for Object:  5\n",
      "        iteration  0 1 2 3 4     <<<<\n",
      "        >>>> Start iterations for Object:  6\n",
      "        iteration  0 1 2 3 4     <<<<\n",
      "    round: 2     indexes: [5, 6]\n",
      "        >>>> Start iterations for Object:  5\n",
      "        iteration  0 1 2 3 4 5 6 7 8 9     <<<<\n",
      "        >>>> Start iterations for Object:  6\n",
      "        iteration  0 1 2 3 4 5 6 7 8 9     <<<<\n",
      "    round: 3     indexes: [6]\n",
      "        >>>> Start iterations for Object:  6\n",
      "        iteration  0 1 2 3 4 5 6 7 8 9 10 11 12 13 14 15 16 17 18 19     <<<<\n",
      "step: 0  results:  [[0.8264963309386757, 0.6694620280603274], [0.19689488394426435, 0.09417421261640141], [0.3772776956838626, 0.30559493350392875], [0.26707113355885115, 0.21632761818266943], [0.3638163368355297, 0.17401222607778968], [0.04336603202263001, 0.007232231956349601], [0.20631328761734447, 0.004183117357386144], [0.49498744918841, 0.4009398338426121]]\n",
      "\n",
      "\n",
      " HB step **  1  **      Step budget: 80     Number of samples: 4\n",
      "    number of rounds:  3\n",
      "    budget per round:  26\n",
      "    sample budget per round:  [6, 13, 26]\n",
      "    round: 0     indexes: [0, 1, 2, 3]\n",
      "        >>>> Start iterations for Object:  0\n",
      "        iteration  0 1 2 3 4 5     <<<<\n",
      "        >>>> Start iterations for Object:  1\n",
      "        iteration  0 1 2 3 4 5     <<<<\n",
      "        >>>> Start iterations for Object:  2\n",
      "        iteration  0 1 2 3 4 5     <<<<\n",
      "        >>>> Start iterations for Object:  3\n",
      "        iteration  0 1 2 3 4 5     <<<<\n",
      "    round: 1     indexes: [1, 2]\n",
      "        >>>> Start iterations for Object:  1\n",
      "        iteration  0 1 2 3 4 5 6 7 8 9 10 11 12     <<<<\n",
      "        >>>> Start iterations for Object:  2\n",
      "        iteration  0 1 2 3 4 5 6 7 8 9 10 11 12     <<<<\n",
      "    round: 2     indexes: [2]\n",
      "        >>>> Start iterations for Object:  2\n",
      "        iteration  0 1 2 3 4 5 6 7 8 9 10 11 12 13 14 15 16 17 18 19 20 21 22 23 24 25     <<<<\n",
      "step: 1  results:  [[0.8264963309386757, 0.6694620280603274], [0.19689488394426435, 0.09417421261640141], [0.3772776956838626, 0.30559493350392875], [0.26707113355885115, 0.21632761818266943], [0.3638163368355297, 0.17401222607778968], [0.04336603202263001, 0.007232231956349601], [0.20631328761734447, 0.004183117357386144], [0.49498744918841, 0.4009398338426121], [0.18313023335834744, 0.09732291434619353], [0.8847456077064324, 0.11951601238738699], [0.6332322052832065, 0.0055268276178516715], [0.8211737827537428, 0.43640541628043195]]\n",
      "\n",
      "\n",
      " HB step **  2  **      Step budget: 80     Number of samples: 2\n",
      "    number of rounds:  2\n",
      "    budget per round:  40\n",
      "    sample budget per round:  [20, 40]\n",
      "    round: 0     indexes: [0, 1]\n",
      "        >>>> Start iterations for Object:  0\n",
      "        iteration  0 1 2 3 4 5 6 7 8 9 10 11 12 13 14 15 16 17 18 19     <<<<\n",
      "        >>>> Start iterations for Object:  1\n",
      "        iteration  0 1 2 3 4 5 6 7 8 9 10 11 12 13 14 15 16 17 18 19     <<<<\n",
      "    round: 1     indexes: [0]\n",
      "        >>>> Start iterations for Object:  0\n",
      "        iteration  0 1 2 3 4 5 6 7 8 9 10 11 12 13 14 15 16 17 18 19 20 21 22 23 24 25 26 27 28 29 30 31 32 33 34 35 36 37 38 39     <<<<\n",
      "step: 2  results:  [[0.8264963309386757, 0.6694620280603274], [0.19689488394426435, 0.09417421261640141], [0.3772776956838626, 0.30559493350392875], [0.26707113355885115, 0.21632761818266943], [0.3638163368355297, 0.17401222607778968], [0.04336603202263001, 0.007232231956349601], [0.20631328761734447, 0.004183117357386144], [0.49498744918841, 0.4009398338426121], [0.18313023335834744, 0.09732291434619353], [0.8847456077064324, 0.11951601238738699], [0.6332322052832065, 0.0055268276178516715], [0.8211737827537428, 0.43640541628043195], [0.03756602103365436, 6.750652672427916e-05], [0.1501454368945523, 0.018254179919679106]]\n",
      "\n",
      "\n",
      " HB step **  3  **      Step budget: 80     Number of samples: 1\n",
      "    number of rounds:  1\n",
      "    budget per round:  80\n",
      "    sample budget per round:  [80]\n",
      "    round: 0     indexes: [0]\n",
      "        >>>> Start iterations for Object:  0\n",
      "        iteration  0 1 2 3 4 5 6 7 8 9 10 11 12 13 14 15 16 17 18 19 20 21 22 23 24 25 26 27 28 29 30 31 32 33 34 35 36 37 38 39 40 41 42 43 44 45 46 47 48 49 50 51 52 53 54 55 56 57 58 59 60 61 62 63 64 65 66 67 68 69 70 71 72 73 74 75 76 77 78 79     <<<<\n",
      "step: 3  results:  [[0.8264963309386757, 0.6694620280603274], [0.19689488394426435, 0.09417421261640141], [0.3772776956838626, 0.30559493350392875], [0.26707113355885115, 0.21632761818266943], [0.3638163368355297, 0.17401222607778968], [0.04336603202263001, 0.007232231956349601], [0.20631328761734447, 0.004183117357386144], [0.49498744918841, 0.4009398338426121], [0.18313023335834744, 0.09732291434619353], [0.8847456077064324, 0.11951601238738699], [0.6332322052832065, 0.0055268276178516715], [0.8211737827537428, 0.43640541628043195], [0.03756602103365436, 6.750652672427916e-05], [0.1501454368945523, 0.018254179919679106], [0.0143395701708674, 3.132830430872091e-06]]\n"
     ]
    }
   ],
   "source": [
    "experiment = RandomHB(sample_size, halving_factor, total_budget, min_budget, max_budget, hb_halving_factor, num_hyperparameters, min_sampling_distance)\n",
    "experiment.start()"
   ]
  },
  {
   "cell_type": "code",
   "execution_count": 4,
   "id": "fad78246-0eb0-407f-8711-be7314334918",
   "metadata": {},
   "outputs": [
    {
     "data": {
      "text/plain": [
       "[[0.8264963309386757, 0.6694620280603274],\n",
       " [0.19689488394426435, 0.09417421261640141],\n",
       " [0.3772776956838626, 0.30559493350392875],\n",
       " [0.26707113355885115, 0.21632761818266943],\n",
       " [0.3638163368355297, 0.17401222607778968],\n",
       " [0.04336603202263001, 0.007232231956349601],\n",
       " [0.20631328761734447, 0.004183117357386144],\n",
       " [0.49498744918841, 0.4009398338426121],\n",
       " [0.18313023335834744, 0.09732291434619353],\n",
       " [0.8847456077064324, 0.11951601238738699],\n",
       " [0.6332322052832065, 0.0055268276178516715],\n",
       " [0.8211737827537428, 0.43640541628043195],\n",
       " [0.03756602103365436, 6.750652672427916e-05],\n",
       " [0.1501454368945523, 0.018254179919679106],\n",
       " [0.0143395701708674, 3.132830430872091e-06]]"
      ]
     },
     "execution_count": 4,
     "metadata": {},
     "output_type": "execute_result"
    }
   ],
   "source": [
    "experiment.pull_results()"
   ]
  },
  {
   "cell_type": "code",
   "execution_count": 5,
   "id": "498cd901-7ca2-426b-a12d-bb94bfe918a8",
   "metadata": {},
   "outputs": [
    {
     "name": "stdout",
     "output_type": "stream",
     "text": [
      "1\n"
     ]
    },
    {
     "data": {
      "text/plain": [
       "[0.0143395701708674, 3.132830430872091e-06]"
      ]
     },
     "execution_count": 5,
     "metadata": {},
     "output_type": "execute_result"
    }
   ],
   "source": [
    "experiment.pull_best()"
   ]
  }
 ],
 "metadata": {
  "kernelspec": {
   "display_name": "Python 3 (ipykernel)",
   "language": "python",
   "name": "python3"
  },
  "language_info": {
   "codemirror_mode": {
    "name": "ipython",
    "version": 3
   },
   "file_extension": ".py",
   "mimetype": "text/x-python",
   "name": "python",
   "nbconvert_exporter": "python",
   "pygments_lexer": "ipython3",
   "version": "3.10.7"
  }
 },
 "nbformat": 4,
 "nbformat_minor": 5
}
